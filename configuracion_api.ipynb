{
 "cells": [
  {
   "cell_type": "code",
   "execution_count": 19,
   "metadata": {},
   "outputs": [],
   "source": [
    "import pandas as pd\n",
    "import numpy as np\n",
    "from flask import Flask, jsonify, request\n",
    "import pickle\n",
    "from sklearn.model_selection import train_test_split\n",
    "import xgboost as xgb\n",
    "from sklearn.metrics import accuracy_score, classification_report\n",
    "\n",
    "\n"
   ]
  },
  {
   "cell_type": "code",
   "execution_count": 20,
   "metadata": {},
   "outputs": [
    {
     "name": "stdout",
     "output_type": "stream",
     "text": [
      "Columnas en el DataFrame: Index(['Periodo', 'Total', 'ID_Cliente', 'Ingresos', 'Compro_Seguro',\n",
      "       'Tamaño_Hogar', 'Edad_26-35', 'Edad_36-45', 'Edad_46-55', 'Edad_56-65',\n",
      "       'Edad_65+', 'Sexo_M', 'Estado civil_Divorciado', 'Estado civil_Soltero',\n",
      "       'Estado civil_Viudo', 'Nivel_Educativo_Primaria',\n",
      "       'Nivel_Educativo_Secundaria', 'Nivel_Educativo_Universitario'],\n",
      "      dtype='object')\n",
      "Número de filas en test_data: 263\n"
     ]
    }
   ],
   "source": [
    "\n",
    "ruta_archivo = r\"C:\\\\Users\\\\orlan\\\\Documents\\\\Proyecto Machine Learning\\\\datos_demograficos.csv\"\n",
    "\n",
    "\n",
    "data = pd.read_csv(ruta_archivo, delimiter=';')\n",
    "\n",
    "\n",
    "data['Total'] = data['Total'].str.replace(',', '.').str.replace('..', '.')\n",
    "data['Total'] = pd.to_numeric(data['Total'], errors='coerce')\n",
    "data = data.dropna(subset=['Total'])\n",
    "\n",
    "data['ID_Cliente'] = np.arange(1, len(data) + 1)\n",
    "data['Ingresos'] = np.random.normal(30000, 10000, len(data)).clip(min=15000)\n",
    "data['Compro_Seguro'] = np.random.choice([0, 1], len(data), p=[0.7, 0.3])\n",
    "data['Edad'] = np.random.choice(['18-25', '26-35', '36-45', '46-55', '56-65', '65+'], len(data))\n",
    "data['Estado civil'] = np.random.choice(['Soltero', 'Casado', 'Divorciado', 'Viudo'], len(data))\n",
    "data['Sexo'] = np.random.choice(['M', 'F'], len(data))\n",
    "data['Tamaño_Hogar'] = np.random.choice([1, 2, 3, 4, 5], len(data))\n",
    "data['Nivel_Educativo'] = np.random.choice(['Primaria', 'Secundaria', 'Universitario', 'Postgrado'], len(data))\n",
    "\n",
    "\n",
    "data = pd.get_dummies(data, columns=['Edad', 'Sexo', 'Estado civil', 'Nivel_Educativo'], drop_first=True)\n",
    "\n",
    "\n",
    "test_data = data.sample(frac=0.2, random_state=42)\n",
    "\n",
    "\n",
    "print(\"Columnas en el DataFrame:\", data.columns)\n",
    "print(\"Número de filas en test_data:\", len(test_data))\n",
    "\n"
   ]
  },
  {
   "cell_type": "code",
   "execution_count": 21,
   "metadata": {},
   "outputs": [
    {
     "name": "stdout",
     "output_type": "stream",
     "text": [
      "Total                            float64\n",
      "ID_Cliente                         int32\n",
      "Ingresos                         float64\n",
      "Tamaño_Hogar                       int32\n",
      "Edad_26-35                          bool\n",
      "Edad_36-45                          bool\n",
      "Edad_46-55                          bool\n",
      "Edad_56-65                          bool\n",
      "Edad_65+                            bool\n",
      "Sexo_M                              bool\n",
      "Estado civil_Divorciado             bool\n",
      "Estado civil_Soltero                bool\n",
      "Estado civil_Viudo                  bool\n",
      "Nivel_Educativo_Primaria            bool\n",
      "Nivel_Educativo_Secundaria          bool\n",
      "Nivel_Educativo_Universitario       bool\n",
      "dtype: object\n",
      "Accuracy: 0.6136363636363636\n",
      "Classification Report:\n",
      "              precision    recall  f1-score   support\n",
      "\n",
      "           0       0.65      0.85      0.74       171\n",
      "           1       0.39      0.17      0.24        93\n",
      "\n",
      "    accuracy                           0.61       264\n",
      "   macro avg       0.52      0.51      0.49       264\n",
      "weighted avg       0.56      0.61      0.56       264\n",
      "\n"
     ]
    }
   ],
   "source": [
    "\n",
    "X = data.drop(['Compro_Seguro', 'Periodo'], axis=1)  \n",
    "y = data['Compro_Seguro']\n",
    "\n",
    "\n",
    "print(X.dtypes)\n",
    "\n",
    "\n",
    "X_train, X_test, y_train, y_test = train_test_split(X, y, test_size=0.2, random_state=42)\n",
    "\n",
    "\n",
    "model = xgb.XGBClassifier(use_label_encoder=False, eval_metric='logloss')\n",
    "model.fit(X_train, y_train)\n",
    "\n",
    "\n",
    "y_pred = model.predict(X_test)\n",
    "accuracy = accuracy_score(y_test, y_pred)\n",
    "class_report = classification_report(y_test, y_pred)\n",
    "\n",
    "print(f'Accuracy: {accuracy}')\n",
    "print('Classification Report:')\n",
    "print(class_report)\n",
    "\n",
    "\n",
    "with open('model.pkl', 'wb') as model_file:\n",
    "    pickle.dump(model, model_file)\n",
    "\n",
    "\n",
    "\n",
    "\n",
    "\n",
    "\n",
    "\n",
    "\n"
   ]
  },
  {
   "cell_type": "code",
   "execution_count": 22,
   "metadata": {},
   "outputs": [
    {
     "name": "stdout",
     "output_type": "stream",
     "text": [
      "Número de filas en test_data (inicialización): 263\n"
     ]
    }
   ],
   "source": [
    "\n",
    "app = Flask(__name__)\n",
    "\n",
    "\n",
    "with open('model.pkl', 'rb') as model_file:\n",
    "    model = pickle.load(model_file)\n",
    "\n",
    "\n",
    "print(\"Número de filas en test_data (inicialización):\", len(test_data))\n",
    "\n",
    "\n",
    "\n",
    "\n"
   ]
  },
  {
   "cell_type": "code",
   "execution_count": 23,
   "metadata": {},
   "outputs": [],
   "source": [
    "@app.route('/datos', methods=['GET'])\n",
    "def obtener_todos_los_datos():\n",
    "    return jsonify(data.to_dict(orient='records'))\n",
    "\n",
    "@app.route('/datos/train', methods=['GET'])\n",
    "def obtener_datos_train():\n",
    "    return jsonify(data.to_dict(orient='records'))\n",
    "\n",
    "@app.route('/datos/test', methods=['GET'])\n",
    "def obtener_datos_test():\n",
    "    try:\n",
    "        print(\"Número de filas en test_data (servidor):\", len(test_data))\n",
    "        print(test_data.head())  \n",
    "        return jsonify(test_data.to_dict(orient='records'))\n",
    "    except Exception as e:\n",
    "        print(\"Error en la ruta /datos/test:\", str(e))\n",
    "        return jsonify({'error': str(e)}), 500\n",
    "\n",
    "@app.route('/datos/<int:indice>', methods=['GET'])\n",
    "def obtener_datos_observacion(indice):\n",
    "    if 0 <= indice < len(data):\n",
    "        return jsonify(data.iloc[indice].to_dict())\n",
    "    return jsonify({'error': 'Índice fuera de rango'}), 404\n",
    "\n",
    "@app.route('/query', methods=['POST'])\n",
    "def realizar_consulta_query():\n",
    "    filtro = request.json.get('filtro')\n",
    "    datos_filtrados = data.query(filtro)\n",
    "    return jsonify(datos_filtrados.to_dict(orient='records'))\n",
    "\n",
    "@app.route('/predict', methods=['POST'])\n",
    "def realizar_prediccion_modelo():\n",
    "    try:\n",
    "        observacion = request.json\n",
    "        df_observacion = pd.DataFrame([observacion])\n",
    "        \n",
    "        \n",
    "        df_observacion = df_observacion.reindex(columns=X_train.columns, fill_value=0)\n",
    "        \n",
    "        print(\"Datos de observación recibidos para predicción:\", df_observacion)\n",
    "        prediccion = model.predict(df_observacion)\n",
    "        print(\"Predicción realizada:\", prediccion)\n",
    "        return jsonify({'prediccion': prediccion.tolist()})\n",
    "    except Exception as e:\n",
    "        print(\"Error durante la predicción:\", str(e))\n",
    "        return jsonify({'error': str(e)}), 400\n",
    "\n",
    "@app.route('/columnas_modelo', methods=['GET'])\n",
    "def obtener_columnas_modelo():\n",
    "    return jsonify(list(X_train.columns))\n",
    "\n",
    "\n",
    "\n",
    "\n"
   ]
  },
  {
   "cell_type": "code",
   "execution_count": 24,
   "metadata": {},
   "outputs": [
    {
     "name": "stdout",
     "output_type": "stream",
     "text": [
      " * Serving Flask app '__main__'\n"
     ]
    },
    {
     "name": "stdout",
     "output_type": "stream",
     "text": [
      " * Debug mode: on\n"
     ]
    },
    {
     "name": "stderr",
     "output_type": "stream",
     "text": [
      "WARNING: This is a development server. Do not use it in a production deployment. Use a production WSGI server instead.\n",
      " * Running on http://127.0.0.1:5000\n",
      "Press CTRL+C to quit\n"
     ]
    }
   ],
   "source": [
    "from threading import Thread\n",
    "\n",
    "def run_flask():\n",
    "    app.run(debug=True, port=5000, use_reloader=False)\n",
    "\n",
    "flask_thread = Thread(target=run_flask)\n",
    "flask_thread.start()\n"
   ]
  }
 ],
 "metadata": {
  "kernelspec": {
   "display_name": "Python 3",
   "language": "python",
   "name": "python3"
  },
  "language_info": {
   "codemirror_mode": {
    "name": "ipython",
    "version": 3
   },
   "file_extension": ".py",
   "mimetype": "text/x-python",
   "name": "python",
   "nbconvert_exporter": "python",
   "pygments_lexer": "ipython3",
   "version": "3.12.1"
  }
 },
 "nbformat": 4,
 "nbformat_minor": 2
}
